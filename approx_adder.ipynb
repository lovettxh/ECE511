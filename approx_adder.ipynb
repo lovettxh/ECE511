{
 "cells": [
  {
   "cell_type": "code",
   "execution_count": 17,
   "metadata": {},
   "outputs": [],
   "source": [
    "import math\n",
    "import random\n",
    "import numpy as np\n",
    "def CLG(bits, a, b, full = False):\n",
    "    assert bits % 2 == 0 or full\n",
    "    assert len(a) == bits and len(b) == bits\n",
    "    c = '0'\n",
    "    cout = ''\n",
    "    for i in range(len(a)):\n",
    "        if a[bits - i - 1] == '1' and b[bits - i - 1] == '1':\n",
    "            c = '1'\n",
    "        elif a[bits - i - 1] == '0' and b[bits - i - 1] == '0':\n",
    "            c = '0'\n",
    "        \n",
    "        cout = c + cout\n",
    "    \n",
    "    cout = cout + '0'\n",
    "    if not full:\n",
    "        cout = cout[0:int(len(a)/2) + 1]\n",
    "        \n",
    "    return cout\n",
    "\n",
    "def xor_m(a, b, l):\n",
    "    assert len(a) == l\n",
    "    assert len(b) == l\n",
    "    result = ''\n",
    "    for i in range(l):\n",
    "        if a[l-i-1] != b[l-i-1]:\n",
    "            result = '1' + result\n",
    "        else:\n",
    "            result = '0' + result\n",
    "    return result"
   ]
  },
  {
   "cell_type": "code",
   "execution_count": 16,
   "metadata": {},
   "outputs": [],
   "source": [
    "def approx_add(a, b, l, CLG_length):\n",
    "    assert CLG_length % 2 == 0\n",
    "    result = ''\n",
    "    num1 = str(bin(a))[2:]\n",
    "    num2 = str(bin(b))[2:]\n",
    "    while(len(num1) < l):\n",
    "        num1 = '0' + num1\n",
    "    while(len(num2) < l):\n",
    "        num2 = '0' + num2\n",
    "    remain =  int(l % (CLG_length / 2))\n",
    "\n",
    "    for i in range(math.floor(l / CLG_length * 2) - 1):\n",
    "        if i == 0:\n",
    "            s = xor_m(num1[(l-CLG_length):l], num2[(l-CLG_length):l], CLG_length)\n",
    "            c = CLG(CLG_length, num1[(l-CLG_length):l], num2[(l-CLG_length):l], True)\n",
    "            result = xor_m(s, c[1:], CLG_length) + result\n",
    "        else:\n",
    "            s = xor_m(num1[l-int(CLG_length/2)*(i+2):l-int(CLG_length/2)*(i+1)], num2[l-int(CLG_length/2)*(i+2):l-int(CLG_length/2)*(i+1)], int(CLG_length/2))\n",
    "            c = CLG(CLG_length, num1[l-int(CLG_length/2)*(i+2):l-int(CLG_length/2)*(i)], num2[l-int(CLG_length/2)*(i+2):l-int(CLG_length/2)*(i)])\n",
    "            result = xor_m(s[0:int(CLG_length/2)], c[1:], int(CLG_length/2)) + result\n",
    "        \n",
    "    if remain != 0:\n",
    "        s = '0' + xor_m(num1[0:remain], num2[0:remain], remain)\n",
    "        c = CLG(remain + int(CLG_length/2), num1[0:remain + int(CLG_length/2)], num2[0:remain + int(CLG_length/2)], True)\n",
    "        result = xor_m(s[0:remain + 1], c[0:remain + 1], remain + 1) + result\n",
    "    else:\n",
    "        c = CLG(CLG_length, num1[0:CLG_length], num2[0:CLG_length])\n",
    "        s = xor_m(num1[0:int(CLG_length/2)], num2[0:int(CLG_length/2)], int(CLG_length/2))\n",
    "        if c[0] == '1':\n",
    "            result = '1' + result\n",
    "    return result\n",
    "        "
   ]
  },
  {
   "cell_type": "code",
   "execution_count": 15,
   "metadata": {},
   "outputs": [],
   "source": [
    "def approx_add1(a, b, l, CLG_length):\n",
    "    assert CLG_length % 2 == 0\n",
    "    result = ''\n",
    "    num1 = str(bin(a))[2:]\n",
    "    num2 = str(bin(b))[2:]\n",
    "    while(len(num1) < l):\n",
    "        num1 = '0' + num1\n",
    "    while(len(num2) < l):\n",
    "        num2 = '0' + num2\n",
    "    remain =  int(l % (CLG_length / 2))\n",
    "\n",
    "    for i in range(math.floor(l / CLG_length * 2) - 2):\n",
    "        if i == 0:\n",
    "            s = xor_m(num1[(l-CLG_length):l], num2[(l-CLG_length):l], CLG_length)\n",
    "            c = CLG(CLG_length, num1[(l-CLG_length):l], num2[(l-CLG_length):l], True)\n",
    "            result = xor_m(s, c[1:], CLG_length) + result\n",
    "        else:\n",
    "            s = xor_m(num1[l-int(CLG_length/2)*(i+2):l-int(CLG_length/2)*(i+1)], num2[l-int(CLG_length/2)*(i+2):l-int(CLG_length/2)*(i+1)], int(CLG_length/2))\n",
    "            c = CLG(CLG_length, num1[l-int(CLG_length/2)*(i+2):l-int(CLG_length/2)*(i)], num2[l-int(CLG_length/2)*(i+2):l-int(CLG_length/2)*(i)])\n",
    "            result = xor_m(s[0:int(CLG_length/2)], c[1:], int(CLG_length/2)) + result\n",
    "    \n",
    "    \n",
    "\n",
    "    \n",
    "    s = '0' + xor_m(num1[0:remain + int(CLG_length/2)], num2[0:remain + int(CLG_length/2)], remain + int(CLG_length/2))\n",
    "    c = CLG(remain + CLG_length, num1[0:remain + CLG_length], num2[0:remain + CLG_length], True)\n",
    "    result = xor_m(s[0:remain + int(CLG_length/2) + 1], c[0:remain + int(CLG_length/2) + 1], remain + int(CLG_length/2) + 1) + result\n",
    "    \n",
    "    return result"
   ]
  },
  {
   "cell_type": "code",
   "execution_count": 14,
   "metadata": {},
   "outputs": [],
   "source": [
    "def approx_add2(a, b, l, CLG_length):\n",
    "    assert CLG_length % 2 == 0\n",
    "    result = ''\n",
    "    num1 = str(bin(a))[2:]\n",
    "    num2 = str(bin(b))[2:]\n",
    "    while(len(num1) < l):\n",
    "        num1 = '0' + num1\n",
    "    while(len(num2) < l):\n",
    "        num2 = '0' + num2\n",
    "    remain =  int(l % (CLG_length / 2))\n",
    "\n",
    "    for i in range(math.floor(l / CLG_length * 2) - 2):\n",
    "        if i == 0:\n",
    "            s = xor_m(num1[(l-CLG_length):l], num2[(l-CLG_length):l], CLG_length)\n",
    "            c = CLG(CLG_length, num1[(l-CLG_length):l], num2[(l-CLG_length):l], True)\n",
    "            result = xor_m(s, c[1:], CLG_length) + result\n",
    "        else:\n",
    "            s = xor_m(num1[l-int(CLG_length/2)*(i+2):l-int(CLG_length/2)*(i+1)], num2[l-int(CLG_length/2)*(i+2):l-int(CLG_length/2)*(i+1)], int(CLG_length/2))\n",
    "            c = CLG(CLG_length, num1[l-int(CLG_length/2)*(i+2):l-int(CLG_length/2)*(i)], num2[l-int(CLG_length/2)*(i+2):l-int(CLG_length/2)*(i)])\n",
    "            result = xor_m(s[0:int(CLG_length/2)], c[1:], int(CLG_length/2)) + result\n",
    "    \n",
    "    \n",
    "\n",
    "    if l > (CLG_length * 3 / 2):\n",
    "        s = '0' + xor_m(num1[0:remain + int(CLG_length/2)], num2[0:remain + int(CLG_length/2)], remain + int(CLG_length/2))\n",
    "        c = CLG(remain + int(CLG_length*3/2), num1[0:remain + int(CLG_length*3/2)], num2[0:remain + int(CLG_length*3/2)], True)\n",
    "        result = xor_m(s[0:remain + int(CLG_length/2) + 1], c[0:remain + int(CLG_length/2) + 1], remain + int(CLG_length/2) + 1) + result\n",
    "    else:\n",
    "        s = '0' + xor_m(num1[0:remain + int(CLG_length/2)], num2[0:remain + int(CLG_length/2)], remain + int(CLG_length/2))\n",
    "        c = CLG(remain + CLG_length, num1[0:remain + CLG_length], num2[0:remain + CLG_length], True)\n",
    "        result = xor_m(s[0:remain + int(CLG_length/2) + 1], c[0:remain + int(CLG_length/2) + 1], remain + int(CLG_length/2) + 1) + result\n",
    "    return result"
   ]
  },
  {
   "cell_type": "code",
   "execution_count": 168,
   "metadata": {},
   "outputs": [
    {
     "data": {
      "text/plain": [
       "259"
      ]
     },
     "execution_count": 168,
     "metadata": {},
     "output_type": "execute_result"
    }
   ],
   "source": [
    "int(approx_add(511,4,32,8),2)"
   ]
  },
  {
   "cell_type": "code",
   "execution_count": 20,
   "metadata": {},
   "outputs": [
    {
     "name": "stdout",
     "output_type": "stream",
     "text": [
      "0.9\n",
      "1.0\n",
      "0.91\n",
      "1.0\n",
      "0.92\n",
      "1.0\n",
      "0.93\n",
      "1.0\n",
      "0.9400000000000001\n",
      "1.0\n",
      "0.9500000000000001\n",
      "1.0\n",
      "0.9600000000000001\n",
      "1.0\n",
      "0.9700000000000001\n",
      "1.0\n",
      "0.9800000000000001\n",
      "1.0\n",
      "0.9900000000000001\n",
      "1.0\n",
      "1.0\n",
      "0.98453\n"
     ]
    }
   ],
   "source": [
    "\n",
    "num = 100000\n",
    "\n",
    "for MAA in np.arange(0.9,1.01,0.01):\n",
    "    count = 0\n",
    "    for i in range(num):\n",
    "        a = random.randint(0,2**32)\n",
    "        b = random.randint(0,2**32)\n",
    "        out = int(approx_add2(a,b,32,12),2)\n",
    "        error = abs(a + b - out)\n",
    "        acc = 1 - error/(a + b)\n",
    "        if acc >= MAA:\n",
    "            count += 1\n",
    "    print(MAA)\n",
    "    print(count/num)"
   ]
  }
 ],
 "metadata": {
  "interpreter": {
   "hash": "7b4b4feff2f24a0f0a34464dbe537a36fda679851528fb8735cb41fa49dffb2d"
  },
  "kernelspec": {
   "display_name": "Python 3.8.3 64-bit ('base': conda)",
   "language": "python",
   "name": "python3"
  },
  "language_info": {
   "codemirror_mode": {
    "name": "ipython",
    "version": 3
   },
   "file_extension": ".py",
   "mimetype": "text/x-python",
   "name": "python",
   "nbconvert_exporter": "python",
   "pygments_lexer": "ipython3",
   "version": "3.8.3"
  },
  "orig_nbformat": 4
 },
 "nbformat": 4,
 "nbformat_minor": 2
}
