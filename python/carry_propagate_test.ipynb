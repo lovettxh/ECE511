{
 "cells": [
  {
   "cell_type": "code",
   "execution_count": 4,
   "metadata": {},
   "outputs": [],
   "source": [
    "def binary_add(a, b, l):\n",
    "    carry_count = {}\n",
    "    for i in range(l):\n",
    "        carry_count[str(i+1)] = 0\n",
    "    while(len(a) < l):\n",
    "        a = '0' + a\n",
    "    while(len(b) < l):\n",
    "        b = '0' + b\n",
    "\n",
    "    count = 0\n",
    "    c = '0'\n",
    "    #result = ''\n",
    "    for i in range(l):\n",
    "        if a[l-i-1] == '1' and b[l-i-1] == '1':\n",
    "\n",
    "            if c == '1':\n",
    "                carry_count[str(count)] = carry_count[str(count)] + 1\n",
    "                count = 1\n",
    "            else:\n",
    "                count = 1\n",
    "\n",
    "            #result = c + result\n",
    "            c = '1'\n",
    "        elif a[l-i-1] == '0' and b[l-i-1] == '0':\n",
    "            if c == '1':\n",
    "                carry_count[str(count)] = carry_count[str(count)] + 1\n",
    "                count = 0\n",
    "            #result = c + result\n",
    "            c = '0'\n",
    "        elif c == '1':\n",
    "            count = count + 1\n",
    "            #result = '0' + result\n",
    "            c = '1'\n",
    "        else:\n",
    "            #result = '1' + result\n",
    "            c = '0'\n",
    "    if c == '1':\n",
    "        carry_count[str(count)] = carry_count[str(count)] + 1\n",
    "        #result = '1' + result\n",
    "    return carry_count\n",
    "\n"
   ]
  },
  {
   "cell_type": "code",
   "execution_count": 30,
   "metadata": {},
   "outputs": [],
   "source": [
    "from threading import Thread, Lock\n",
    "\n",
    "class MyThread(Thread):\n",
    "    def __init__(self, func, args):\n",
    "        super(MyThread, self).__init__()\n",
    "        self.func = func\n",
    "        self.args = args\n",
    "    def run(self):\n",
    "        self.result = self.func(*self.args)\n",
    "    def get_result(self):\n",
    "        try:\n",
    "            return self.result\n",
    "        except Exception:\n",
    "            return None"
   ]
  },
  {
   "cell_type": "code",
   "execution_count": 63,
   "metadata": {},
   "outputs": [],
   "source": [
    "def threads_add(num, length, lock):\n",
    "    result = {}\n",
    "    for i in range(length):\n",
    "        result[str(i+1)] = 0\n",
    "    #global result\n",
    "    for i in range(num, 2**length - 1):\n",
    "        num1 = str(bin(num))[2:]\n",
    "        num2 = str(bin(i))[2:]\n",
    "        carry = binary_add(num1, num2, length)\n",
    "        #lock.acquire()\n",
    "        for a in range(length):\n",
    "            result[str(a+1)] = result[str(a+1)] + carry[str(a+1)]\n",
    "        #lock.release()\n",
    "    return result\n"
   ]
  },
  {
   "cell_type": "code",
   "execution_count": 73,
   "metadata": {},
   "outputs": [
    {
     "name": "stdout",
     "output_type": "stream",
     "text": [
      "{'1': 4563386368, '2': 2147352576, '3': 1006571520, '4': 469733376, '5': 218090496, '6': 100657152, '7': 46134528, '8': 20970240, '9': 9436608, '10': 4194048, '11': 1834896, '12': 786384, '13': 327660, '14': 131064, '15': 49149, '16': 16383}\n"
     ]
    }
   ],
   "source": [
    "thread_num = 1000\n",
    "length = 16\n",
    "result = {}\n",
    "for i in range(length):\n",
    "    result[str(i+1)] = 0\n",
    "count = 0\n",
    "threads = []\n",
    "lock = Lock()\n",
    "for i in range(2**length - 1):\n",
    "    # for j in range(i, 2**length - 1):\n",
    "    #     num1 = str(bin(i))[2:]\n",
    "    #     num2 = str(bin(j))[2:]\n",
    "        #------------------------------------\n",
    "    t = MyThread(threads_add, (i, length, lock))\n",
    "    threads.append(t)\n",
    "    t.start()\n",
    "    count = count + 1\n",
    "    \n",
    "    if(count == thread_num):\n",
    "        #print('in')\n",
    "        for th in threads:\n",
    "            th.join()\n",
    "            carry = th.get_result()\n",
    "            for a in range(length):\n",
    "                result[str(a+1)] = result[str(a+1)] + carry[str(a+1)]\n",
    "        threads = []\n",
    "        count = 0\n",
    "        #print('out')\n",
    "        #------------------------------------\n",
    "        # carry = binary_add(num1, num2, length)\n",
    "        # for a in range(length):\n",
    "        #     result[str(a+1)] = result[str(a+1)] + carry[str(a+1)]\n",
    "if(threads != []):\n",
    "    for th in threads:\n",
    "        th.join()\n",
    "        carry = th.get_result()\n",
    "        for a in range(length):\n",
    "            result[str(a+1)] = result[str(a+1)] + carry[str(a+1)]\n",
    "print(result)\n"
   ]
  },
  {
   "cell_type": "code",
   "execution_count": 69,
   "metadata": {},
   "outputs": [
    {
     "name": "stdout",
     "output_type": "stream",
     "text": [
      "{'1': 13630464, '2': 6285312, '3': 2880768, '4': 1309440, '5': 589248, '6': 261888, '7': 114576, '8': 49104, '9': 20460, '10': 8184, '11': 3069, '12': 1023}\n"
     ]
    }
   ],
   "source": [
    "thread_num = 100\n",
    "length = 12\n",
    "result = {}\n",
    "for i in range(length):\n",
    "    result[str(i+1)] = 0\n",
    "count = 0\n",
    "threads = []\n",
    "for i in range(2**length - 1):\n",
    "    for j in range(i, 2**length - 1):\n",
    "        num1 = str(bin(i))[2:]\n",
    "        num2 = str(bin(j))[2:]\n",
    "        #------------------------------------\n",
    "        # t = MyThread(binary_add, (num1, num2, length))\n",
    "        # threads.append(t)\n",
    "        # t.start()\n",
    "        # count = count + 1\n",
    "        # if(count == thread_num):\n",
    "        #     for th in threads:\n",
    "        #         th.join()\n",
    "        #         carry = th.get_result()\n",
    "        #         for a in range(length):\n",
    "        #             result[str(a+1)] = result[str(a+1)] + carry[str(a+1)]\n",
    "        #     threads = []\n",
    "        #     count = 0\n",
    "        #------------------------------------\n",
    "        carry = binary_add(num1, num2, length)\n",
    "        for a in range(length):\n",
    "            result[str(a+1)] = result[str(a+1)] + carry[str(a+1)]\n",
    "print(result)"
   ]
  },
  {
   "cell_type": "code",
   "execution_count": 74,
   "metadata": {},
   "outputs": [
    {
     "name": "stdout",
     "output_type": "stream",
     "text": [
      "1 0.5312643055513169\n",
      "2 0.249992370372631\n",
      "3 0.11718392361217078\n",
      "4 0.05468583101901303\n",
      "5 0.025389850115970336\n",
      "6 0.011718392361217078\n",
      "7 0.005370929832224494\n",
      "8 0.0024413317419202246\n",
      "9 0.001098599283864101\n",
      "10 0.0004882663483840449\n",
      "11 0.00021361652741801965\n",
      "12 9.154994032200842e-05\n",
      "13 3.814580846750351e-05\n",
      "14 1.5258323387001404e-05\n",
      "15 5.7218712701255264e-06\n",
      "16 1.9072904233751755e-06\n"
     ]
    }
   ],
   "source": [
    "s = 0\n",
    "for i in range(length):\n",
    "    s = s + result[str(i+1)]\n",
    "for k,i in result.items():\n",
    "    print(k, i/s)"
   ]
  }
 ],
 "metadata": {
  "interpreter": {
   "hash": "7b4b4feff2f24a0f0a34464dbe537a36fda679851528fb8735cb41fa49dffb2d"
  },
  "kernelspec": {
   "display_name": "Python 3.8.3 64-bit ('base': conda)",
   "language": "python",
   "name": "python3"
  },
  "language_info": {
   "codemirror_mode": {
    "name": "ipython",
    "version": 3
   },
   "file_extension": ".py",
   "mimetype": "text/x-python",
   "name": "python",
   "nbconvert_exporter": "python",
   "pygments_lexer": "ipython3",
   "version": "3.8.3"
  },
  "orig_nbformat": 4
 },
 "nbformat": 4,
 "nbformat_minor": 2
}
